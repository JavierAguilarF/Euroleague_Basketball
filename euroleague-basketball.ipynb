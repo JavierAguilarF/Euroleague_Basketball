{
 "cells": [
  {
   "cell_type": "markdown",
   "metadata": {
    "papermill": {
     "duration": 0.027919,
     "end_time": "2021-02-04T08:41:49.093522",
     "exception": false,
     "start_time": "2021-02-04T08:41:49.065603",
     "status": "completed"
    },
    "tags": []
   },
   "source": [
    "# Euroleague games 2003-2019\n"
   ]
  },
  {
   "cell_type": "markdown",
   "metadata": {
    "papermill": {
     "duration": 0.02453,
     "end_time": "2021-02-04T08:41:49.143245",
     "exception": false,
     "start_time": "2021-02-04T08:41:49.118715",
     "status": "completed"
    },
    "tags": []
   },
   "source": [
    "![](https://www.baskonia.com/wp-content/uploads/2020/04/el-1024x378.png)"
   ]
  },
  {
   "cell_type": "markdown",
   "metadata": {
    "papermill": {
     "duration": 0.024384,
     "end_time": "2021-02-04T08:41:49.192368",
     "exception": false,
     "start_time": "2021-02-04T08:41:49.167984",
     "status": "completed"
    },
    "tags": []
   },
   "source": [
    "The aim of this notebook is to examine the \"Basketball-Euroleague RESULTS 2003-2020\" dataset to find some interesting information and to see the differences between teams or trends in the game over the years. Finally we'll estimate the final difference using different ML techniques."
   ]
  },
  {
   "cell_type": "markdown",
   "metadata": {
    "papermill": {
     "duration": 0.025638,
     "end_time": "2021-02-04T08:41:49.242781",
     "exception": false,
     "start_time": "2021-02-04T08:41:49.217143",
     "status": "completed"
    },
    "tags": []
   },
   "source": [
    "# 1. Importing needed libraries and initial exploration."
   ]
  },
  {
   "cell_type": "code",
   "execution_count": 1,
   "metadata": {
    "_cell_guid": "b1076dfc-b9ad-4769-8c92-a6c4dae69d19",
    "_uuid": "8f2839f25d086af736a60e9eeb907d3b93b6e0e5",
    "execution": {
     "iopub.execute_input": "2021-02-04T08:41:49.299322Z",
     "iopub.status.busy": "2021-02-04T08:41:49.298592Z",
     "iopub.status.idle": "2021-02-04T08:41:50.707692Z",
     "shell.execute_reply": "2021-02-04T08:41:50.705987Z"
    },
    "papermill": {
     "duration": 1.440457,
     "end_time": "2021-02-04T08:41:50.707919",
     "exception": false,
     "start_time": "2021-02-04T08:41:49.267462",
     "status": "completed"
    },
    "tags": []
   },
   "outputs": [],
   "source": [
    "import numpy as np \n",
    "import pandas as pd \n",
    "import os\n",
    "import statistics \n",
    "#Data visualization\n",
    "import matplotlib.pyplot as plt\n",
    "import seaborn as sns\n",
    "#Tools for predictive data analysis\n",
    "from sklearn.neighbors import KNeighborsRegressor\n",
    "from sklearn.metrics import mean_squared_error\n",
    "from sklearn.model_selection import cross_val_score, KFold\n",
    "from sklearn.linear_model import LinearRegression\n",
    "from sklearn.model_selection import train_test_split\n",
    "from sklearn.neural_network import MLPRegressor\n",
    "from sklearn.ensemble import RandomForestRegressor"
   ]
  },
  {
   "cell_type": "code",
   "execution_count": 2,
   "metadata": {
    "execution": {
     "iopub.execute_input": "2021-02-04T08:41:50.765142Z",
     "iopub.status.busy": "2021-02-04T08:41:50.764501Z",
     "iopub.status.idle": "2021-02-04T08:41:50.877655Z",
     "shell.execute_reply": "2021-02-04T08:41:50.878139Z"
    },
    "papermill": {
     "duration": 0.144574,
     "end_time": "2021-02-04T08:41:50.878336",
     "exception": false,
     "start_time": "2021-02-04T08:41:50.733762",
     "status": "completed"
    },
    "tags": []
   },
   "outputs": [
    {
     "data": {
      "text/html": [
       "<div>\n",
       "<style scoped>\n",
       "    .dataframe tbody tr th:only-of-type {\n",
       "        vertical-align: middle;\n",
       "    }\n",
       "\n",
       "    .dataframe tbody tr th {\n",
       "        vertical-align: top;\n",
       "    }\n",
       "\n",
       "    .dataframe thead th {\n",
       "        text-align: right;\n",
       "    }\n",
       "</style>\n",
       "<table border=\"1\" class=\"dataframe\">\n",
       "  <thead>\n",
       "    <tr style=\"text-align: right;\">\n",
       "      <th></th>\n",
       "      <th>DATE</th>\n",
       "      <th>HT</th>\n",
       "      <th>AT</th>\n",
       "      <th>WINNER</th>\n",
       "      <th>HS</th>\n",
       "      <th>AS</th>\n",
       "      <th>Q1H</th>\n",
       "      <th>Q1A</th>\n",
       "      <th>Q1T</th>\n",
       "      <th>Q2H</th>\n",
       "      <th>...</th>\n",
       "      <th>P2A</th>\n",
       "      <th>P1T</th>\n",
       "      <th>P2T</th>\n",
       "      <th>HTT</th>\n",
       "      <th>FTT</th>\n",
       "      <th>GAPA1Q</th>\n",
       "      <th>GAPA2Q</th>\n",
       "      <th>GAPA3Q</th>\n",
       "      <th>GAPA4Q</th>\n",
       "      <th>GAPT</th>\n",
       "    </tr>\n",
       "  </thead>\n",
       "  <tbody>\n",
       "    <tr>\n",
       "      <th>0</th>\n",
       "      <td>13.12.2019</td>\n",
       "      <td>Barcelona</td>\n",
       "      <td>Panathinaikos</td>\n",
       "      <td>Barcelona</td>\n",
       "      <td>98</td>\n",
       "      <td>86</td>\n",
       "      <td>28</td>\n",
       "      <td>23</td>\n",
       "      <td>51</td>\n",
       "      <td>27</td>\n",
       "      <td>...</td>\n",
       "      <td>39</td>\n",
       "      <td>102</td>\n",
       "      <td>82</td>\n",
       "      <td>102</td>\n",
       "      <td>82</td>\n",
       "      <td>5</td>\n",
       "      <td>4</td>\n",
       "      <td>6</td>\n",
       "      <td>12</td>\n",
       "      <td>12</td>\n",
       "    </tr>\n",
       "    <tr>\n",
       "      <th>1</th>\n",
       "      <td>13.12.2019</td>\n",
       "      <td>Lyon-Villeurbanne</td>\n",
       "      <td>Olimpia Milano</td>\n",
       "      <td>Lyon-Villeurbanne</td>\n",
       "      <td>89</td>\n",
       "      <td>82</td>\n",
       "      <td>20</td>\n",
       "      <td>24</td>\n",
       "      <td>44</td>\n",
       "      <td>18</td>\n",
       "      <td>...</td>\n",
       "      <td>37</td>\n",
       "      <td>83</td>\n",
       "      <td>88</td>\n",
       "      <td>83</td>\n",
       "      <td>88</td>\n",
       "      <td>4</td>\n",
       "      <td>6</td>\n",
       "      <td>9</td>\n",
       "      <td>7</td>\n",
       "      <td>7</td>\n",
       "    </tr>\n",
       "    <tr>\n",
       "      <th>2</th>\n",
       "      <td>13.12.2019</td>\n",
       "      <td>Bayern</td>\n",
       "      <td>Zenit Petersburg</td>\n",
       "      <td>Bayern</td>\n",
       "      <td>77</td>\n",
       "      <td>69</td>\n",
       "      <td>14</td>\n",
       "      <td>15</td>\n",
       "      <td>29</td>\n",
       "      <td>23</td>\n",
       "      <td>...</td>\n",
       "      <td>34</td>\n",
       "      <td>72</td>\n",
       "      <td>74</td>\n",
       "      <td>72</td>\n",
       "      <td>74</td>\n",
       "      <td>1</td>\n",
       "      <td>5</td>\n",
       "      <td>11</td>\n",
       "      <td>8</td>\n",
       "      <td>8</td>\n",
       "    </tr>\n",
       "    <tr>\n",
       "      <th>3</th>\n",
       "      <td>13.12.2019</td>\n",
       "      <td>Zalgiris Kaunas</td>\n",
       "      <td>Valencia</td>\n",
       "      <td>Valencia</td>\n",
       "      <td>82</td>\n",
       "      <td>86</td>\n",
       "      <td>21</td>\n",
       "      <td>19</td>\n",
       "      <td>40</td>\n",
       "      <td>27</td>\n",
       "      <td>...</td>\n",
       "      <td>39</td>\n",
       "      <td>95</td>\n",
       "      <td>73</td>\n",
       "      <td>95</td>\n",
       "      <td>73</td>\n",
       "      <td>2</td>\n",
       "      <td>13</td>\n",
       "      <td>7</td>\n",
       "      <td>4</td>\n",
       "      <td>4</td>\n",
       "    </tr>\n",
       "    <tr>\n",
       "      <th>4</th>\n",
       "      <td>12.12.2019</td>\n",
       "      <td>Real Madrid</td>\n",
       "      <td>Olympiacos</td>\n",
       "      <td>Real Madrid</td>\n",
       "      <td>93</td>\n",
       "      <td>77</td>\n",
       "      <td>21</td>\n",
       "      <td>10</td>\n",
       "      <td>31</td>\n",
       "      <td>20</td>\n",
       "      <td>...</td>\n",
       "      <td>47</td>\n",
       "      <td>71</td>\n",
       "      <td>99</td>\n",
       "      <td>71</td>\n",
       "      <td>99</td>\n",
       "      <td>11</td>\n",
       "      <td>22</td>\n",
       "      <td>24</td>\n",
       "      <td>16</td>\n",
       "      <td>16</td>\n",
       "    </tr>\n",
       "    <tr>\n",
       "      <th>...</th>\n",
       "      <td>...</td>\n",
       "      <td>...</td>\n",
       "      <td>...</td>\n",
       "      <td>...</td>\n",
       "      <td>...</td>\n",
       "      <td>...</td>\n",
       "      <td>...</td>\n",
       "      <td>...</td>\n",
       "      <td>...</td>\n",
       "      <td>...</td>\n",
       "      <td>...</td>\n",
       "      <td>...</td>\n",
       "      <td>...</td>\n",
       "      <td>...</td>\n",
       "      <td>...</td>\n",
       "      <td>...</td>\n",
       "      <td>...</td>\n",
       "      <td>...</td>\n",
       "      <td>...</td>\n",
       "      <td>...</td>\n",
       "      <td>...</td>\n",
       "    </tr>\n",
       "    <tr>\n",
       "      <th>3827</th>\n",
       "      <td>05.11.2003</td>\n",
       "      <td>ASVEL</td>\n",
       "      <td>Alba Berlin</td>\n",
       "      <td>ASVEL</td>\n",
       "      <td>91</td>\n",
       "      <td>89</td>\n",
       "      <td>27</td>\n",
       "      <td>25</td>\n",
       "      <td>52</td>\n",
       "      <td>17</td>\n",
       "      <td>...</td>\n",
       "      <td>41</td>\n",
       "      <td>92</td>\n",
       "      <td>88</td>\n",
       "      <td>92</td>\n",
       "      <td>180</td>\n",
       "      <td>2</td>\n",
       "      <td>1</td>\n",
       "      <td>9</td>\n",
       "      <td>2</td>\n",
       "      <td>2</td>\n",
       "    </tr>\n",
       "    <tr>\n",
       "      <th>3828</th>\n",
       "      <td>05.11.2003</td>\n",
       "      <td>Valencia</td>\n",
       "      <td>Treviso</td>\n",
       "      <td>Valencia</td>\n",
       "      <td>89</td>\n",
       "      <td>64</td>\n",
       "      <td>18</td>\n",
       "      <td>17</td>\n",
       "      <td>35</td>\n",
       "      <td>26</td>\n",
       "      <td>...</td>\n",
       "      <td>37</td>\n",
       "      <td>71</td>\n",
       "      <td>82</td>\n",
       "      <td>71</td>\n",
       "      <td>153</td>\n",
       "      <td>1</td>\n",
       "      <td>18</td>\n",
       "      <td>21</td>\n",
       "      <td>25</td>\n",
       "      <td>25</td>\n",
       "    </tr>\n",
       "    <tr>\n",
       "      <th>3829</th>\n",
       "      <td>05.11.2003</td>\n",
       "      <td>Alpella</td>\n",
       "      <td>AEK Athens</td>\n",
       "      <td>Alpella</td>\n",
       "      <td>75</td>\n",
       "      <td>69</td>\n",
       "      <td>23</td>\n",
       "      <td>12</td>\n",
       "      <td>35</td>\n",
       "      <td>13</td>\n",
       "      <td>...</td>\n",
       "      <td>43</td>\n",
       "      <td>62</td>\n",
       "      <td>82</td>\n",
       "      <td>62</td>\n",
       "      <td>144</td>\n",
       "      <td>11</td>\n",
       "      <td>13</td>\n",
       "      <td>11</td>\n",
       "      <td>6</td>\n",
       "      <td>6</td>\n",
       "    </tr>\n",
       "    <tr>\n",
       "      <th>3830</th>\n",
       "      <td>05.11.2003</td>\n",
       "      <td>CSKA Moscow</td>\n",
       "      <td>Montepaschi Siena</td>\n",
       "      <td>CSKA Moscow</td>\n",
       "      <td>84</td>\n",
       "      <td>71</td>\n",
       "      <td>21</td>\n",
       "      <td>17</td>\n",
       "      <td>38</td>\n",
       "      <td>20</td>\n",
       "      <td>...</td>\n",
       "      <td>36</td>\n",
       "      <td>76</td>\n",
       "      <td>79</td>\n",
       "      <td>76</td>\n",
       "      <td>155</td>\n",
       "      <td>4</td>\n",
       "      <td>8</td>\n",
       "      <td>0</td>\n",
       "      <td>13</td>\n",
       "      <td>13</td>\n",
       "    </tr>\n",
       "    <tr>\n",
       "      <th>3831</th>\n",
       "      <td>03.11.2003</td>\n",
       "      <td>Virtus Roma</td>\n",
       "      <td>Barcelona</td>\n",
       "      <td>Barcelona</td>\n",
       "      <td>59</td>\n",
       "      <td>61</td>\n",
       "      <td>20</td>\n",
       "      <td>16</td>\n",
       "      <td>36</td>\n",
       "      <td>10</td>\n",
       "      <td>...</td>\n",
       "      <td>33</td>\n",
       "      <td>58</td>\n",
       "      <td>62</td>\n",
       "      <td>58</td>\n",
       "      <td>120</td>\n",
       "      <td>4</td>\n",
       "      <td>1</td>\n",
       "      <td>0</td>\n",
       "      <td>2</td>\n",
       "      <td>2</td>\n",
       "    </tr>\n",
       "  </tbody>\n",
       "</table>\n",
       "<p>3832 rows × 33 columns</p>\n",
       "</div>"
      ],
      "text/plain": [
       "            DATE                 HT                 AT             WINNER  HS  \\\n",
       "0     13.12.2019          Barcelona      Panathinaikos          Barcelona  98   \n",
       "1     13.12.2019  Lyon-Villeurbanne     Olimpia Milano  Lyon-Villeurbanne  89   \n",
       "2     13.12.2019             Bayern   Zenit Petersburg             Bayern  77   \n",
       "3     13.12.2019    Zalgiris Kaunas           Valencia           Valencia  82   \n",
       "4     12.12.2019        Real Madrid         Olympiacos        Real Madrid  93   \n",
       "...          ...                ...                ...                ...  ..   \n",
       "3827  05.11.2003              ASVEL        Alba Berlin              ASVEL  91   \n",
       "3828  05.11.2003           Valencia            Treviso           Valencia  89   \n",
       "3829  05.11.2003            Alpella         AEK Athens            Alpella  75   \n",
       "3830  05.11.2003        CSKA Moscow  Montepaschi Siena        CSKA Moscow  84   \n",
       "3831  03.11.2003        Virtus Roma          Barcelona          Barcelona  59   \n",
       "\n",
       "      AS  Q1H  Q1A  Q1T  Q2H  ...  P2A  P1T  P2T  HTT  FTT  GAPA1Q  GAPA2Q  \\\n",
       "0     86   28   23   51   27  ...   39  102   82  102   82       5       4   \n",
       "1     82   20   24   44   18  ...   37   83   88   83   88       4       6   \n",
       "2     69   14   15   29   23  ...   34   72   74   72   74       1       5   \n",
       "3     86   21   19   40   27  ...   39   95   73   95   73       2      13   \n",
       "4     77   21   10   31   20  ...   47   71   99   71   99      11      22   \n",
       "...   ..  ...  ...  ...  ...  ...  ...  ...  ...  ...  ...     ...     ...   \n",
       "3827  89   27   25   52   17  ...   41   92   88   92  180       2       1   \n",
       "3828  64   18   17   35   26  ...   37   71   82   71  153       1      18   \n",
       "3829  69   23   12   35   13  ...   43   62   82   62  144      11      13   \n",
       "3830  71   21   17   38   20  ...   36   76   79   76  155       4       8   \n",
       "3831  61   20   16   36   10  ...   33   58   62   58  120       4       1   \n",
       "\n",
       "      GAPA3Q  GAPA4Q  GAPT  \n",
       "0          6      12    12  \n",
       "1          9       7     7  \n",
       "2         11       8     8  \n",
       "3          7       4     4  \n",
       "4         24      16    16  \n",
       "...      ...     ...   ...  \n",
       "3827       9       2     2  \n",
       "3828      21      25    25  \n",
       "3829      11       6     6  \n",
       "3830       0      13    13  \n",
       "3831       0       2     2  \n",
       "\n",
       "[3832 rows x 33 columns]"
      ]
     },
     "execution_count": 2,
     "metadata": {},
     "output_type": "execute_result"
    }
   ],
   "source": [
    "dataset = pd.read_csv('/kaggle/input/euroleague-basketball-results-20032019/euroleague_dset_csv_03_20_upd.csv')\n",
    "dataset"
   ]
  },
  {
   "cell_type": "markdown",
   "metadata": {
    "papermill": {
     "duration": 0.026705,
     "end_time": "2021-02-04T08:41:50.931529",
     "exception": false,
     "start_time": "2021-02-04T08:41:50.904824",
     "status": "completed"
    },
    "tags": []
   },
   "source": [
    "The dataset includes information related to all the games from 2003 to 2019. It contains information on each game, with the following colums:\n",
    "* DATE = Date\n",
    "* HT = Home Team\n",
    "* AT = Away Team\n",
    "* WINNER = Team won the game\n",
    "* HS = Home Score\n",
    "* AS = Away Score\n",
    "* Q1H = 1st quarter home score\n",
    "* Q1A = 1st quarter away score\n",
    "* Q2H = …\n",
    "* Q2A = …\n",
    "* Q3H = …\n",
    "* Q3A = …\n",
    "* Q4H = …\n",
    "* Q4A = …\n",
    "* OTH = Overtime home \n",
    "* OTA = Overtime away \n",
    "* P1H = 1st part home score\n",
    "* P1A = 1st part away score\n",
    "* P2H = 2nd part home score\n",
    "* P2A = 2nd part away score\n",
    "* P1T = part 1 total\n",
    "* P2T = part 2 total\n",
    "* HTT = half time total (=P1T)\n",
    "* FTT = full time total\n",
    "* GAPA1Q = Absolute number of gap between teams in points after 1st quarter\n",
    "* GAPA2Q = Absolute number of gap between teams in points after 2nd quarter\n",
    "* GAPA3Q = Absolute number of gap between teams in points after 3rd quarter\n",
    "* GAPA4Q = Absolute number of gap between teams in points after 4rd quarter\n"
   ]
  },
  {
   "cell_type": "code",
   "execution_count": 3,
   "metadata": {
    "_kg_hide-output": false,
    "execution": {
     "iopub.execute_input": "2021-02-04T08:41:50.987792Z",
     "iopub.status.busy": "2021-02-04T08:41:50.986810Z",
     "iopub.status.idle": "2021-02-04T08:41:51.010124Z",
     "shell.execute_reply": "2021-02-04T08:41:51.009487Z"
    },
    "papermill": {
     "duration": 0.05271,
     "end_time": "2021-02-04T08:41:51.010284",
     "exception": false,
     "start_time": "2021-02-04T08:41:50.957574",
     "status": "completed"
    },
    "tags": []
   },
   "outputs": [
    {
     "name": "stdout",
     "output_type": "stream",
     "text": [
      "<class 'pandas.core.frame.DataFrame'>\n",
      "RangeIndex: 3832 entries, 0 to 3831\n",
      "Data columns (total 33 columns):\n",
      " #   Column  Non-Null Count  Dtype  \n",
      "---  ------  --------------  -----  \n",
      " 0   DATE    3832 non-null   object \n",
      " 1   HT      3832 non-null   object \n",
      " 2   AT      3832 non-null   object \n",
      " 3   WINNER  3832 non-null   object \n",
      " 4   HS      3832 non-null   int64  \n",
      " 5   AS      3832 non-null   int64  \n",
      " 6   Q1H     3832 non-null   int64  \n",
      " 7   Q1A     3832 non-null   int64  \n",
      " 8   Q1T     3832 non-null   int64  \n",
      " 9   Q2H     3832 non-null   int64  \n",
      " 10  Q2A     3832 non-null   int64  \n",
      " 11  Q2T     3832 non-null   int64  \n",
      " 12  Q3H     3832 non-null   int64  \n",
      " 13  Q3A     3832 non-null   int64  \n",
      " 14  Q3T     3832 non-null   int64  \n",
      " 15  Q4H     3832 non-null   int64  \n",
      " 16  Q4A     3832 non-null   int64  \n",
      " 17  Q4T     3832 non-null   int64  \n",
      " 18  OTH     9 non-null      float64\n",
      " 19  OTA     9 non-null      float64\n",
      " 20  P1H     3832 non-null   int64  \n",
      " 21  P1A     3832 non-null   int64  \n",
      " 22  P2H     3832 non-null   int64  \n",
      " 23  P2A     3832 non-null   int64  \n",
      " 24  P1T     3832 non-null   int64  \n",
      " 25  P2T     3832 non-null   int64  \n",
      " 26  HTT     3832 non-null   int64  \n",
      " 27  FTT     3832 non-null   int64  \n",
      " 28  GAPA1Q  3832 non-null   int64  \n",
      " 29  GAPA2Q  3832 non-null   int64  \n",
      " 30  GAPA3Q  3832 non-null   int64  \n",
      " 31  GAPA4Q  3832 non-null   int64  \n",
      " 32  GAPT    3832 non-null   int64  \n",
      "dtypes: float64(2), int64(27), object(4)\n",
      "memory usage: 988.1+ KB\n"
     ]
    }
   ],
   "source": [
    "dataset.info()"
   ]
  },
  {
   "cell_type": "code",
   "execution_count": 4,
   "metadata": {
    "execution": {
     "iopub.execute_input": "2021-02-04T08:41:51.072751Z",
     "iopub.status.busy": "2021-02-04T08:41:51.071842Z",
     "iopub.status.idle": "2021-02-04T08:41:51.175613Z",
     "shell.execute_reply": "2021-02-04T08:41:51.176114Z"
    },
    "papermill": {
     "duration": 0.13923,
     "end_time": "2021-02-04T08:41:51.176303",
     "exception": false,
     "start_time": "2021-02-04T08:41:51.037073",
     "status": "completed"
    },
    "tags": []
   },
   "outputs": [
    {
     "name": "stdout",
     "output_type": "stream",
     "text": [
      "                HS           AS          Q1H          Q1A          Q1T  \\\n",
      "count  3832.000000  3832.000000  3832.000000  3832.000000  3832.000000   \n",
      "mean     79.102818    75.109342    19.939457    18.644572    38.584029   \n",
      "std      11.431677    11.334928     4.915202     4.925705     7.081340   \n",
      "min       0.000000     0.000000     0.000000     0.000000     0.000000   \n",
      "25%      71.000000    67.000000    17.000000    15.000000    34.000000   \n",
      "50%      79.000000    75.000000    20.000000    19.000000    38.000000   \n",
      "75%      87.000000    83.000000    23.000000    22.000000    44.000000   \n",
      "max     123.000000   123.000000    38.000000    38.000000    64.000000   \n",
      "\n",
      "               Q2H          Q2A          Q2T          Q3H          Q3A  ...  \\\n",
      "count  3832.000000  3832.000000  3832.000000  3832.000000  3832.000000  ...   \n",
      "mean     19.546973    18.399791    37.946764    19.276357    18.306367  ...   \n",
      "std       5.012163     5.058662     7.268917     5.124204     4.861440  ...   \n",
      "min       0.000000     0.000000     0.000000     0.000000     0.000000  ...   \n",
      "25%      16.000000    15.000000    33.000000    16.000000    15.000000  ...   \n",
      "50%      19.000000    18.000000    38.000000    19.000000    18.000000  ...   \n",
      "75%      23.000000    22.000000    43.000000    23.000000    21.000000  ...   \n",
      "max      36.000000    38.000000    62.000000    41.000000    37.000000  ...   \n",
      "\n",
      "               P2A          P1T          P2T          HTT          FTT  \\\n",
      "count  3832.000000  3832.000000  3832.000000  3832.000000  3832.000000   \n",
      "mean     37.518789    76.530793    76.594207    76.530793   150.680585   \n",
      "std       7.356220    10.954813    11.535878    10.954813    21.601859   \n",
      "min       0.000000     0.000000     0.000000     0.000000     0.000000   \n",
      "25%      33.000000    69.000000    69.000000    69.000000   140.000000   \n",
      "50%      37.000000    76.000000    76.000000    76.000000   152.000000   \n",
      "75%      42.000000    84.000000    84.000000    84.000000   164.000000   \n",
      "max      62.000000   120.000000   122.000000   120.000000   224.000000   \n",
      "\n",
      "            GAPA1Q       GAPA2Q       GAPA3Q       GAPA4Q         GAPT  \n",
      "count  3832.000000  3832.000000  3832.000000  3832.000000  3832.000000  \n",
      "mean      5.514614     7.923017     9.591075    10.930846    11.168841  \n",
      "std       4.237506     5.904095     7.538126     8.595657     8.491705  \n",
      "min       0.000000     0.000000     0.000000     0.000000     0.000000  \n",
      "25%       2.000000     3.000000     4.000000     4.000000     5.000000  \n",
      "50%       5.000000     7.000000     8.000000     9.000000     9.000000  \n",
      "75%       8.000000    11.000000    14.000000    16.000000    16.000000  \n",
      "max      26.000000    36.000000    56.000000    54.000000    89.000000  \n",
      "\n",
      "[8 rows x 29 columns]\n",
      "              DATE           HT           AT       WINNER\n",
      "count         3832         3832         3832         3832\n",
      "unique         914           91           89           86\n",
      "top     15.11.2012  CSKA Moscow  CSKA Moscow  CSKA Moscow\n",
      "freq            10          220          214          339\n"
     ]
    }
   ],
   "source": [
    "print(dataset.describe())\n",
    "print(dataset.describe(include=np.object))"
   ]
  },
  {
   "cell_type": "markdown",
   "metadata": {
    "papermill": {
     "duration": 0.026978,
     "end_time": "2021-02-04T08:41:51.230807",
     "exception": false,
     "start_time": "2021-02-04T08:41:51.203829",
     "status": "completed"
    },
    "tags": []
   },
   "source": [
    "# 2. Home/Away ratio victories."
   ]
  },
  {
   "cell_type": "markdown",
   "metadata": {
    "papermill": {
     "duration": 0.026775,
     "end_time": "2021-02-04T08:41:51.284821",
     "exception": false,
     "start_time": "2021-02-04T08:41:51.258046",
     "status": "completed"
    },
    "tags": []
   },
   "source": [
    "What is the difference between top teams and average teams? Is it their strenght playing as local? We'll focus on the teams with a number of victories equal or greater than 10. Before starting our analysis we need some data cleaning."
   ]
  },
  {
   "cell_type": "code",
   "execution_count": 5,
   "metadata": {
    "execution": {
     "iopub.execute_input": "2021-02-04T08:41:51.345884Z",
     "iopub.status.busy": "2021-02-04T08:41:51.345233Z",
     "iopub.status.idle": "2021-02-04T08:41:51.352726Z",
     "shell.execute_reply": "2021-02-04T08:41:51.353229Z"
    },
    "papermill": {
     "duration": 0.041576,
     "end_time": "2021-02-04T08:41:51.353413",
     "exception": false,
     "start_time": "2021-02-04T08:41:51.311837",
     "status": "completed"
    },
    "tags": []
   },
   "outputs": [],
   "source": [
    "# Some teams have different names within the years, let's fix it.\n",
    "rename = {'Tau Ceramica':'Baskonia','Fenerbahce Ulker':'Fenerbahce',\n",
    "          'Anadolu Efes SK':'Anadolu Efes','Crvena zvezda mts':'Crvena Zvezda',\n",
    "          'Khimki M.':'Khimki'} \n",
    "dataset.replace(rename,inplace = True)"
   ]
  },
  {
   "cell_type": "code",
   "execution_count": 6,
   "metadata": {
    "execution": {
     "iopub.execute_input": "2021-02-04T08:41:51.411314Z",
     "iopub.status.busy": "2021-02-04T08:41:51.410684Z",
     "iopub.status.idle": "2021-02-04T08:41:51.418723Z",
     "shell.execute_reply": "2021-02-04T08:41:51.419241Z"
    },
    "papermill": {
     "duration": 0.03872,
     "end_time": "2021-02-04T08:41:51.419429",
     "exception": false,
     "start_time": "2021-02-04T08:41:51.380709",
     "status": "completed"
    },
    "tags": []
   },
   "outputs": [],
   "source": [
    "over_10 = dataset['WINNER'].value_counts().head(45) #The first 45 teams are above ten victories.\n",
    "below_10 = dataset['WINNER'].value_counts().tail(36)#Teams below 10 victories\n",
    "list_below_10 = list(below_10.index)\n",
    "list_over_10 = list(over_10.index)"
   ]
  },
  {
   "cell_type": "code",
   "execution_count": 7,
   "metadata": {
    "execution": {
     "iopub.execute_input": "2021-02-04T08:41:51.477485Z",
     "iopub.status.busy": "2021-02-04T08:41:51.476897Z",
     "iopub.status.idle": "2021-02-04T08:41:51.693952Z",
     "shell.execute_reply": "2021-02-04T08:41:51.694493Z"
    },
    "papermill": {
     "duration": 0.2479,
     "end_time": "2021-02-04T08:41:51.694698",
     "exception": false,
     "start_time": "2021-02-04T08:41:51.446798",
     "status": "completed"
    },
    "tags": []
   },
   "outputs": [],
   "source": [
    "#empty dictionary\n",
    "team_victotal_ratiolocal = {'Name':[],'Victories_percentage':[],'Victories_local_percentage':[]}      \n",
    "\n",
    "for team in list_over_10:\n",
    "        total_games = dataset[(dataset['HT'] == team) | (dataset['AT'] == team)].shape[0]             \n",
    "        total_victories = dataset[(dataset['WINNER'] == team)].shape[0]                               \n",
    "        local_victories = dataset[(dataset['HT'] == team) & (dataset['WINNER'] == team)].shape[0]     \n",
    "        team_victotal_ratiolocal['Name'].append(team)                                                               \n",
    "        team_victotal_ratiolocal['Victories_percentage'].append((total_victories / total_games) * 100)              \n",
    "        team_victotal_ratiolocal['Victories_local_percentage'].append((local_victories / total_victories) * 100)    \n"
   ]
  },
  {
   "cell_type": "code",
   "execution_count": 8,
   "metadata": {
    "execution": {
     "iopub.execute_input": "2021-02-04T08:41:51.758020Z",
     "iopub.status.busy": "2021-02-04T08:41:51.757384Z",
     "iopub.status.idle": "2021-02-04T08:41:51.760531Z",
     "shell.execute_reply": "2021-02-04T08:41:51.760012Z"
    },
    "papermill": {
     "duration": 0.037899,
     "end_time": "2021-02-04T08:41:51.760676",
     "exception": false,
     "start_time": "2021-02-04T08:41:51.722777",
     "status": "completed"
    },
    "tags": []
   },
   "outputs": [],
   "source": [
    "df = pd.DataFrame(team_victotal_ratiolocal)     #Dataframe using the dictionary created before\n",
    "df = df.sort_values(by=['Victories_percentage'])#Sorting the dataframe by 'Victories_percentage'"
   ]
  },
  {
   "cell_type": "code",
   "execution_count": 9,
   "metadata": {
    "execution": {
     "iopub.execute_input": "2021-02-04T08:41:51.840411Z",
     "iopub.status.busy": "2021-02-04T08:41:51.839361Z",
     "iopub.status.idle": "2021-02-04T08:41:53.034029Z",
     "shell.execute_reply": "2021-02-04T08:41:53.033500Z"
    },
    "papermill": {
     "duration": 1.245543,
     "end_time": "2021-02-04T08:41:53.034178",
     "exception": false,
     "start_time": "2021-02-04T08:41:51.788635",
     "status": "completed"
    },
    "tags": []
   },
   "outputs": [
    {
     "data": {
      "image/png": "[encoded data removed]",
      "text/plain": [
       "<Figure size 720x360 with 1 Axes>"
      ]
     },
     "metadata": {
      "needs_background": "light"
     },
     "output_type": "display_data"
    },
    {
     "data": {
      "image/png": "[encoded data removed]",
      "text/plain": [
       "<Figure size 720x360 with 1 Axes>"
      ]
     },
     "metadata": {
      "needs_background": "light"
     },
     "output_type": "display_data"
    }
   ],
   "source": [
    "font = {'family': 'serif',\n",
    "        'color':  'darkred',\n",
    "        'weight': 'normal',\n",
    "        'size': 16,\n",
    "        }\n",
    "fig = plt.figure(figsize=(10, 5))\n",
    "ax = fig.add_axes([0,0,1,1])\n",
    "plt.axhline(y=50, color='r', linestyle='--')\n",
    "plt.xticks(rotation='vertical')\n",
    "ax.bar(df['Name'],df['Victories_percentage'])\n",
    "plt.title('Victories percentage',fontdict=font)\n",
    "plt.show()\n",
    "\n",
    "#second chart\n",
    "\n",
    "fig = plt.figure(figsize=(10, 5))\n",
    "ax = fig.add_axes([0,0,1,1])\n",
    "plt.axhline(y=50, color='r', linestyle='--')\n",
    "plt.xticks(rotation='vertical')\n",
    "ax.bar(df['Name'],df['Victories_local_percentage'])\n",
    "plt.title('Ratio Home/Away victories',fontdict=font)\n",
    "plt.show()"
   ]
  },
  {
   "cell_type": "code",
   "execution_count": 10,
   "metadata": {
    "execution": {
     "iopub.execute_input": "2021-02-04T08:41:53.104902Z",
     "iopub.status.busy": "2021-02-04T08:41:53.104208Z",
     "iopub.status.idle": "2021-02-04T08:41:53.294000Z",
     "shell.execute_reply": "2021-02-04T08:41:53.293458Z"
    },
    "papermill": {
     "duration": 0.22618,
     "end_time": "2021-02-04T08:41:53.294141",
     "exception": false,
     "start_time": "2021-02-04T08:41:53.067961",
     "status": "completed"
    },
    "tags": []
   },
   "outputs": [
    {
     "data": {
      "image/png": "[encoded data removed]",
      "text/plain": [
       "<Figure size 432x288 with 1 Axes>"
      ]
     },
     "metadata": {
      "needs_background": "light"
     },
     "output_type": "display_data"
    }
   ],
   "source": [
    "ax1 = df.plot.scatter(x = 'Victories_percentage', y = 'Victories_local_percentage', c = 'DarkBlue')\n",
    "m, b = np.polyfit(df['Victories_percentage'], df['Victories_local_percentage'], 1)   # m = slope, b = intercept\n",
    "\n",
    "plt.plot(df['Victories_percentage'], m*df['Victories_percentage'] + b)\n",
    "plt.show()"
   ]
  },
  {
   "cell_type": "markdown",
   "metadata": {
    "papermill": {
     "duration": 0.031677,
     "end_time": "2021-02-04T08:41:53.358081",
     "exception": false,
     "start_time": "2021-02-04T08:41:53.326404",
     "status": "completed"
    },
    "tags": []
   },
   "source": [
    "We notice that the top teams win almost as much playing at home or away. Which shows us a sign of consistency, proving they can win playing anywhere. Moreover, average teams seems to struggle playing away. For instance, we'd like to stand out Strasbourg, which won 9 out 10 victories playing at home."
   ]
  },
  {
   "cell_type": "markdown",
   "metadata": {
    "papermill": {
     "duration": 0.034017,
     "end_time": "2021-02-04T08:41:53.424678",
     "exception": false,
     "start_time": "2021-02-04T08:41:53.390661",
     "status": "completed"
    },
    "tags": []
   },
   "source": [
    "# 3. Winning and lossing streaks."
   ]
  },
  {
   "cell_type": "code",
   "execution_count": 11,
   "metadata": {
    "execution": {
     "iopub.execute_input": "2021-02-04T08:41:53.505072Z",
     "iopub.status.busy": "2021-02-04T08:41:53.504391Z",
     "iopub.status.idle": "2021-02-04T08:41:53.511945Z",
     "shell.execute_reply": "2021-02-04T08:41:53.512394Z"
    },
    "papermill": {
     "duration": 0.053685,
     "end_time": "2021-02-04T08:41:53.512566",
     "exception": false,
     "start_time": "2021-02-04T08:41:53.458881",
     "status": "completed"
    },
    "tags": []
   },
   "outputs": [
    {
     "data": {
      "text/plain": [
       "3831   2003-03-11\n",
       "3777   2003-03-12\n",
       "3778   2003-03-12\n",
       "3779   2003-03-12\n",
       "3780   2003-03-12\n",
       "          ...    \n",
       "6      2019-12-12\n",
       "3      2019-12-13\n",
       "2      2019-12-13\n",
       "1      2019-12-13\n",
       "0      2019-12-13\n",
       "Name: DATE, Length: 3832, dtype: datetime64[ns]"
      ]
     },
     "execution_count": 11,
     "metadata": {},
     "output_type": "execute_result"
    }
   ],
   "source": [
    "#We change the type of the 'date' column to datetime\n",
    "dataset[\"DATE\"] = pd.to_datetime(dataset[\"DATE\"])\n",
    "dataset.sort_values(by=\"DATE\", inplace=True)\n",
    "dataset[\"DATE\"]"
   ]
  },
  {
   "cell_type": "markdown",
   "metadata": {
    "papermill": {
     "duration": 0.032477,
     "end_time": "2021-02-04T08:41:53.577384",
     "exception": false,
     "start_time": "2021-02-04T08:41:53.544907",
     "status": "completed"
    },
    "tags": []
   },
   "source": [
    "Now, let's compute the highest streaks for each team over the seasons."
   ]
  },
  {
   "cell_type": "code",
   "execution_count": 12,
   "metadata": {
    "execution": {
     "iopub.execute_input": "2021-02-04T08:41:53.748539Z",
     "iopub.status.busy": "2021-02-04T08:41:53.731594Z",
     "iopub.status.idle": "2021-02-04T08:41:53.849450Z",
     "shell.execute_reply": "2021-02-04T08:41:53.848799Z"
    },
    "papermill": {
     "duration": 0.239789,
     "end_time": "2021-02-04T08:41:53.849598",
     "exception": false,
     "start_time": "2021-02-04T08:41:53.609809",
     "status": "completed"
    },
    "tags": []
   },
   "outputs": [],
   "source": [
    "win_max= []\n",
    "loss_max =[]\n",
    "max_losses= {}\n",
    "max_wins = {}\n",
    "max_w_l = {}\n",
    "#Iterate over the teams and create a counter to compute \n",
    "#the highest winning and losing streak\n",
    "for team in list_over_10:\n",
    "    dataset_team = dataset[(dataset['HT'] == team) | (dataset['AT'] == team)]\n",
    "    dataset_team = dataset_team[['DATE', 'HT', 'AT', 'WINNER']]\n",
    "    dataset_team['WIN'] = [1 if x == team else 0 for x in dataset_team['WINNER']]\n",
    "    dataset_team['LOSS'] = [0 if x == team else 1 for x in dataset_team['WINNER']]\n",
    "    wins = 0\n",
    "    losses = 0\n",
    "    for item in dataset_team['WIN']:\n",
    "        if item ==1:\n",
    "            counter += 1\n",
    "        else:\n",
    "            counter = 0\n",
    "        if counter > wins:\n",
    "            wins = counter\n",
    "    max_wins[team] = wins\n",
    "    win_max.append(wins)\n",
    "    for item in dataset_team['LOSS']:\n",
    "        if item == 1:\n",
    "            counter += 1\n",
    "        else:\n",
    "            counter = 0\n",
    "        if counter > losses:\n",
    "            losses = counter\n",
    "    max_losses[team] = losses\n",
    "    max_w_l[team] = [wins,losses]\n",
    "    loss_max.append(losses)"
   ]
  },
  {
   "cell_type": "code",
   "execution_count": 13,
   "metadata": {
    "execution": {
     "iopub.execute_input": "2021-02-04T08:41:53.940404Z",
     "iopub.status.busy": "2021-02-04T08:41:53.936374Z",
     "iopub.status.idle": "2021-02-04T08:41:54.733996Z",
     "shell.execute_reply": "2021-02-04T08:41:54.733446Z"
    },
    "papermill": {
     "duration": 0.851597,
     "end_time": "2021-02-04T08:41:54.734136",
     "exception": false,
     "start_time": "2021-02-04T08:41:53.882539",
     "status": "completed"
    },
    "tags": []
   },
   "outputs": [
    {
     "data": {
      "image/png": "[encoded data removed]",
      "text/plain": [
       "<Figure size 1440x720 with 1 Axes>"
      ]
     },
     "metadata": {
      "needs_background": "light"
     },
     "output_type": "display_data"
    }
   ],
   "source": [
    "#Create a barplot using matplotlib    \n",
    "plt.figure(figsize=(20, 10))\n",
    "# set width of bar\n",
    "barWidth = 0.4\n",
    " \n",
    "# set height of bar\n",
    "bars1 = win_max\n",
    "bars2 = loss_max\n",
    "\n",
    " \n",
    "# Set position of bar on X axis\n",
    "r1 = np.arange(len(bars1))\n",
    "r2 = [x + barWidth for x in r1]\n",
    " \n",
    "# Make the plot\n",
    "plt.bar(r1, bars1, color='g', width=barWidth, edgecolor='white', label='wins')\n",
    "plt.bar(r2, bars2, color='r', width=barWidth, edgecolor='white', label='losses')\n",
    " \n",
    "# Add xticks on the middle of the group bars\n",
    "# plt.xlabel('Teams', fontweight='bold')\n",
    "plt.xticks([r + barWidth for r in range(len(bars1))], list_over_10,rotation='vertical')\n",
    " \n",
    "# Create legend & Show graphic\n",
    "plt.legend()\n",
    "plt.show()"
   ]
  },
  {
   "cell_type": "markdown",
   "metadata": {
    "papermill": {
     "duration": 0.034075,
     "end_time": "2021-02-04T08:41:54.802862",
     "exception": false,
     "start_time": "2021-02-04T08:41:54.768787",
     "status": "completed"
    },
    "tags": []
   },
   "source": [
    "# 4. Scoring evolution."
   ]
  },
  {
   "cell_type": "markdown",
   "metadata": {
    "papermill": {
     "duration": 0.034511,
     "end_time": "2021-02-04T08:41:54.871698",
     "exception": false,
     "start_time": "2021-02-04T08:41:54.837187",
     "status": "completed"
    },
    "tags": []
   },
   "source": [
    "The game is changing, everybody noticed it. Players are faster and shoot better. Does this create an increase in the average score per game? Let's review how the mean score has changed."
   ]
  },
  {
   "cell_type": "code",
   "execution_count": 14,
   "metadata": {
    "execution": {
     "iopub.execute_input": "2021-02-04T08:41:54.948127Z",
     "iopub.status.busy": "2021-02-04T08:41:54.947510Z",
     "iopub.status.idle": "2021-02-04T08:41:54.976465Z",
     "shell.execute_reply": "2021-02-04T08:41:54.975843Z"
    },
    "papermill": {
     "duration": 0.07044,
     "end_time": "2021-02-04T08:41:54.976603",
     "exception": false,
     "start_time": "2021-02-04T08:41:54.906163",
     "status": "completed"
    },
    "tags": []
   },
   "outputs": [
    {
     "data": {
      "text/html": [
       "<div>\n",
       "<style scoped>\n",
       "    .dataframe tbody tr th:only-of-type {\n",
       "        vertical-align: middle;\n",
       "    }\n",
       "\n",
       "    .dataframe tbody tr th {\n",
       "        vertical-align: top;\n",
       "    }\n",
       "\n",
       "    .dataframe thead th {\n",
       "        text-align: right;\n",
       "    }\n",
       "</style>\n",
       "<table border=\"1\" class=\"dataframe\">\n",
       "  <thead>\n",
       "    <tr style=\"text-align: right;\">\n",
       "      <th></th>\n",
       "      <th>TS</th>\n",
       "    </tr>\n",
       "    <tr>\n",
       "      <th>DATE</th>\n",
       "      <th></th>\n",
       "    </tr>\n",
       "  </thead>\n",
       "  <tbody>\n",
       "    <tr>\n",
       "      <th>2003-03-31</th>\n",
       "      <td>146.250000</td>\n",
       "    </tr>\n",
       "    <tr>\n",
       "      <th>2003-04-30</th>\n",
       "      <td>162.600000</td>\n",
       "    </tr>\n",
       "    <tr>\n",
       "      <th>2003-05-31</th>\n",
       "      <td>158.000000</td>\n",
       "    </tr>\n",
       "    <tr>\n",
       "      <th>2003-06-30</th>\n",
       "      <td>158.428571</td>\n",
       "    </tr>\n",
       "    <tr>\n",
       "      <th>2003-10-31</th>\n",
       "      <td>158.000000</td>\n",
       "    </tr>\n",
       "    <tr>\n",
       "      <th>...</th>\n",
       "      <td>...</td>\n",
       "    </tr>\n",
       "    <tr>\n",
       "      <th>2019-08-31</th>\n",
       "      <td>163.125000</td>\n",
       "    </tr>\n",
       "    <tr>\n",
       "      <th>2019-09-30</th>\n",
       "      <td>155.250000</td>\n",
       "    </tr>\n",
       "    <tr>\n",
       "      <th>2019-10-31</th>\n",
       "      <td>155.638889</td>\n",
       "    </tr>\n",
       "    <tr>\n",
       "      <th>2019-11-30</th>\n",
       "      <td>163.630435</td>\n",
       "    </tr>\n",
       "    <tr>\n",
       "      <th>2019-12-31</th>\n",
       "      <td>165.555556</td>\n",
       "    </tr>\n",
       "  </tbody>\n",
       "</table>\n",
       "<p>190 rows × 1 columns</p>\n",
       "</div>"
      ],
      "text/plain": [
       "                    TS\n",
       "DATE                  \n",
       "2003-03-31  146.250000\n",
       "2003-04-30  162.600000\n",
       "2003-05-31  158.000000\n",
       "2003-06-30  158.428571\n",
       "2003-10-31  158.000000\n",
       "...                ...\n",
       "2019-08-31  163.125000\n",
       "2019-09-30  155.250000\n",
       "2019-10-31  155.638889\n",
       "2019-11-30  163.630435\n",
       "2019-12-31  165.555556\n",
       "\n",
       "[190 rows x 1 columns]"
      ]
     },
     "execution_count": 14,
     "metadata": {},
     "output_type": "execute_result"
    }
   ],
   "source": [
    "#Create a new column by adding AS and HS\n",
    "dataset['TS'] = dataset['HS'] + dataset['AS']\n",
    "#Create a new dataset\n",
    "dt_score = dataset[['DATE','TS']]\n",
    "#Compute the mean for each month\n",
    "dt_score = dt_score.groupby(pd.Grouper(key=\"DATE\", freq=\"1M\")).mean()\n",
    "#Remove nulls\n",
    "dt_score.dropna(inplace = True)\n",
    "dt_score"
   ]
  },
  {
   "cell_type": "code",
   "execution_count": 15,
   "metadata": {
    "execution": {
     "iopub.execute_input": "2021-02-04T08:41:55.076628Z",
     "iopub.status.busy": "2021-02-04T08:41:55.068092Z",
     "iopub.status.idle": "2021-02-04T08:41:55.662121Z",
     "shell.execute_reply": "2021-02-04T08:41:55.661484Z"
    },
    "papermill": {
     "duration": 0.649978,
     "end_time": "2021-02-04T08:41:55.662281",
     "exception": false,
     "start_time": "2021-02-04T08:41:55.012303",
     "status": "completed"
    },
    "tags": []
   },
   "outputs": [
    {
     "data": {
      "image/png": "[encoded data removed]",
      "text/plain": [
       "<Figure size 720x360 with 1 Axes>"
      ]
     },
     "metadata": {
      "needs_background": "light"
     },
     "output_type": "display_data"
    }
   ],
   "source": [
    "fig = plt.figure(figsize=(10, 5))\n",
    "ax = fig.add_axes([0,0,1,1])\n",
    "ax.bar(range(0,190),dt_score['TS'])\n",
    "plt.ylim(bottom = 140, top = 185) \n",
    "# plt.xticks(range(0,190), \" \")\n",
    "plt.tick_params(axis = \"x\", which = \"both\", bottom = False, top = False)\n",
    "plt.title('Scoring Monthly 2003-2020',fontdict=font)\n",
    "plt.show()"
   ]
  },
  {
   "cell_type": "markdown",
   "metadata": {
    "papermill": {
     "duration": 0.037033,
     "end_time": "2021-02-04T08:41:55.736349",
     "exception": false,
     "start_time": "2021-02-04T08:41:55.699316",
     "status": "completed"
    },
    "tags": []
   },
   "source": [
    "Nothing can be assured from the above graph, but in recent years there seems to be a slight trend towards a higher score."
   ]
  },
  {
   "cell_type": "markdown",
   "metadata": {
    "papermill": {
     "duration": 0.036427,
     "end_time": "2021-02-04T08:41:55.810736",
     "exception": false,
     "start_time": "2021-02-04T08:41:55.774309",
     "status": "completed"
    },
    "tags": []
   },
   "source": [
    "# 5. Final difference prediction."
   ]
  },
  {
   "attachments": {
    "hist%20diff.png": {
     "image/png": "[encoded data removed]"
    }
   },
   "cell_type": "markdown",
   "metadata": {
    "papermill": {
     "duration": 0.036626,
     "end_time": "2021-02-04T08:41:55.884632",
     "exception": false,
     "start_time": "2021-02-04T08:41:55.848006",
     "status": "completed"
    },
    "tags": []
   },
   "source": [
    "![hist%20diff.png](attachment:hist%20diff.png)"
   ]
  },
  {
   "cell_type": "markdown",
   "metadata": {
    "papermill": {
     "duration": 0.036075,
     "end_time": "2021-02-04T08:41:55.957151",
     "exception": false,
     "start_time": "2021-02-04T08:41:55.921076",
     "status": "completed"
    },
    "tags": []
   },
   "source": [
    "Imagine that we are at the end of the 3Q, and obviusly we have all the stats about what has happended during the game. Could we predict the final difference between the teams? For this purpose, we need to select the features previusly and to create a new ones if needed. Since some of the columns include somehow the variable we want to predict, we will remove them. And what about those important categorical variables such as 'HT' or 'AT'? We'll solve this by using dummy variables."
   ]
  },
  {
   "cell_type": "code",
   "execution_count": 16,
   "metadata": {
    "execution": {
     "iopub.execute_input": "2021-02-04T08:41:56.042592Z",
     "iopub.status.busy": "2021-02-04T08:41:56.041841Z",
     "iopub.status.idle": "2021-02-04T08:41:56.268216Z",
     "shell.execute_reply": "2021-02-04T08:41:56.267660Z"
    },
    "papermill": {
     "duration": 0.274481,
     "end_time": "2021-02-04T08:41:56.268372",
     "exception": false,
     "start_time": "2021-02-04T08:41:55.993891",
     "status": "completed"
    },
    "tags": []
   },
   "outputs": [],
   "source": [
    "#First we remove every row with teams that are not included in\n",
    "#the list with 10 or more victories.\n",
    "\n",
    "for team in list_below_10:\n",
    "    dataset = dataset[~dataset.HT.str.contains(team) & ~dataset.AT.str.contains(team)] "
   ]
  },
  {
   "cell_type": "code",
   "execution_count": 17,
   "metadata": {
    "execution": {
     "iopub.execute_input": "2021-02-04T08:41:56.349363Z",
     "iopub.status.busy": "2021-02-04T08:41:56.348620Z",
     "iopub.status.idle": "2021-02-04T08:41:56.355759Z",
     "shell.execute_reply": "2021-02-04T08:41:56.355127Z"
    },
    "papermill": {
     "duration": 0.051066,
     "end_time": "2021-02-04T08:41:56.355926",
     "exception": false,
     "start_time": "2021-02-04T08:41:56.304860",
     "status": "completed"
    },
    "tags": []
   },
   "outputs": [],
   "source": [
    "#Get the dummy Variables for the categorical variables HT and AT\n",
    "\n",
    "dummies = pd.get_dummies(dataset[[\"HT\",'AT']]) "
   ]
  },
  {
   "cell_type": "code",
   "execution_count": 18,
   "metadata": {
    "execution": {
     "iopub.execute_input": "2021-02-04T08:41:56.449640Z",
     "iopub.status.busy": "2021-02-04T08:41:56.448975Z",
     "iopub.status.idle": "2021-02-04T08:41:56.452247Z",
     "shell.execute_reply": "2021-02-04T08:41:56.451704Z"
    },
    "papermill": {
     "duration": 0.054814,
     "end_time": "2021-02-04T08:41:56.452436",
     "exception": false,
     "start_time": "2021-02-04T08:41:56.397622",
     "status": "completed"
    },
    "tags": []
   },
   "outputs": [],
   "source": [
    "#Create a new valuable columns for this prediction \n",
    "\n",
    "dataset ['1Q difference'] = dataset ['Q1H'] - dataset ['Q1A']\n",
    "dataset ['2Q difference'] = dataset ['Q2H'] - dataset ['Q2A']\n",
    "dataset ['3Q difference'] = dataset ['Q3H'] - dataset ['Q3A']\n",
    "dataset ['Final difference'] = dataset ['HS'] - dataset ['AS']"
   ]
  },
  {
   "cell_type": "code",
   "execution_count": 19,
   "metadata": {
    "execution": {
     "iopub.execute_input": "2021-02-04T08:41:56.531180Z",
     "iopub.status.busy": "2021-02-04T08:41:56.530553Z",
     "iopub.status.idle": "2021-02-04T08:41:56.535970Z",
     "shell.execute_reply": "2021-02-04T08:41:56.535338Z"
    },
    "papermill": {
     "duration": 0.047233,
     "end_time": "2021-02-04T08:41:56.536114",
     "exception": false,
     "start_time": "2021-02-04T08:41:56.488881",
     "status": "completed"
    },
    "tags": []
   },
   "outputs": [],
   "source": [
    "#Concatenate it to make a new dataset\n",
    "\n",
    "dataset =pd.concat([dataset[['1Q difference','2Q difference','3Q difference',\n",
    "                             'Final difference']],dummies],axis=1) "
   ]
  },
  {
   "cell_type": "markdown",
   "metadata": {
    "papermill": {
     "duration": 0.036507,
     "end_time": "2021-02-04T08:41:56.609994",
     "exception": false,
     "start_time": "2021-02-04T08:41:56.573487",
     "status": "completed"
    },
    "tags": []
   },
   "source": [
    "## 5.1. KNeighbor. "
   ]
  },
  {
   "cell_type": "code",
   "execution_count": 20,
   "metadata": {
    "execution": {
     "iopub.execute_input": "2021-02-04T08:41:56.690000Z",
     "iopub.status.busy": "2021-02-04T08:41:56.689135Z",
     "iopub.status.idle": "2021-02-04T08:41:56.691505Z",
     "shell.execute_reply": "2021-02-04T08:41:56.691952Z"
    },
    "papermill": {
     "duration": 0.044423,
     "end_time": "2021-02-04T08:41:56.692134",
     "exception": false,
     "start_time": "2021-02-04T08:41:56.647711",
     "status": "completed"
    },
    "tags": []
   },
   "outputs": [],
   "source": [
    "column_list = list(dataset.columns)    # Create a list with the features\n",
    "column_list.remove('Final difference') # Remove the target variable"
   ]
  },
  {
   "cell_type": "markdown",
   "metadata": {
    "papermill": {
     "duration": 0.039013,
     "end_time": "2021-02-04T08:41:56.767897",
     "exception": false,
     "start_time": "2021-02-04T08:41:56.728884",
     "status": "completed"
    },
    "tags": []
   },
   "source": [
    "In order to get the best possible model, we'll evaluate it with several values of 'k' and we'll use Cross-validation for assessing how the results of our model will generalize to an independent data set."
   ]
  },
  {
   "cell_type": "code",
   "execution_count": 21,
   "metadata": {
    "execution": {
     "iopub.execute_input": "2021-02-04T08:41:56.870424Z",
     "iopub.status.busy": "2021-02-04T08:41:56.868785Z",
     "iopub.status.idle": "2021-02-04T08:42:19.683393Z",
     "shell.execute_reply": "2021-02-04T08:42:19.683890Z"
    },
    "papermill": {
     "duration": 22.873833,
     "end_time": "2021-02-04T08:42:19.684076",
     "exception": false,
     "start_time": "2021-02-04T08:41:56.810243",
     "status": "completed"
    },
    "tags": []
   },
   "outputs": [
    {
     "name": "stdout",
     "output_type": "stream",
     "text": [
      "The lowest rmse= 7.461626719996839\n"
     ]
    },
    {
     "data": {
      "image/png": "[encoded data removed]",
      "text/plain": [
       "<Figure size 432x288 with 1 Axes>"
      ]
     },
     "metadata": {
      "needs_background": "light"
     },
     "output_type": "display_data"
    }
   ],
   "source": [
    "hyper_params = [x for x in range(1,30)]\n",
    "rmse_values = list()\n",
    "kf = KFold(10, shuffle=True, random_state=1)  \n",
    "for k in hyper_params:\n",
    "    knn=KNeighborsRegressor(n_neighbors=k,algorithm='brute')                     \n",
    "    mses = cross_val_score(knn,dataset[column_list],dataset['Final difference'],\n",
    "                           scoring = 'neg_mean_squared_error', cv = kf )\n",
    "    rmses = np.sqrt(np.absolute(mses))\n",
    "    avg_rmse = np.mean(rmses)\n",
    "    rmse_values.append(avg_rmse)\n",
    "    zmin = np.min(rmse_values)\n",
    "# Scatter plot to visualize the results\n",
    "print('The lowest rmse=',zmin)\n",
    "mask = np.array(rmse_values) == zmin\n",
    "color = np.where(mask, 'red', 'blue')\n",
    "plt.scatter(hyper_params, rmse_values,color=color)\n",
    "plt.xticks(np.arange(0, 30, step=1))\n",
    "plt.show()"
   ]
  },
  {
   "cell_type": "code",
   "execution_count": 22,
   "metadata": {
    "execution": {
     "iopub.execute_input": "2021-02-04T08:42:19.771707Z",
     "iopub.status.busy": "2021-02-04T08:42:19.771038Z",
     "iopub.status.idle": "2021-02-04T08:42:26.221792Z",
     "shell.execute_reply": "2021-02-04T08:42:26.221222Z"
    },
    "papermill": {
     "duration": 6.498365,
     "end_time": "2021-02-04T08:42:26.221936",
     "exception": false,
     "start_time": "2021-02-04T08:42:19.723571",
     "status": "completed"
    },
    "tags": []
   },
   "outputs": [
    {
     "name": "stdout",
     "output_type": "stream",
     "text": [
      "The lowest error is rmse= 7.456495664908466\n"
     ]
    },
    {
     "data": {
      "image/png": "[encoded data removed]",
      "text/plain": [
       "<Figure size 432x288 with 1 Axes>"
      ]
     },
     "metadata": {
      "needs_background": "light"
     },
     "output_type": "display_data"
    }
   ],
   "source": [
    "# Check the behaviour of the model removing the dummy variables\n",
    "hyper_params = [x for x in range(1,25)]\n",
    "rmse_values = list()\n",
    "kf = KFold(10, shuffle=True, random_state=1)  \n",
    "for k in hyper_params:\n",
    "    knn=KNeighborsRegressor(n_neighbors=k,algorithm='brute')                     \n",
    "    mses = cross_val_score(knn,dataset[['1Q difference','2Q difference','3Q difference']],dataset['Final difference'],\n",
    "                           scoring = 'neg_mean_squared_error', cv = kf )\n",
    "    rmses = np.sqrt(np.absolute(mses))\n",
    "    avg_rmse = np.mean(rmses)\n",
    "    rmse_values.append(avg_rmse)\n",
    "    zmin = np.min(rmse_values)\n",
    "# Scatter plot to visualize the results\n",
    "print('The lowest error is rmse=',zmin)\n",
    "mask = np.array(rmse_values) == zmin\n",
    "color = np.where(mask, 'red', 'blue')\n",
    "plt.scatter(hyper_params, rmse_values,color=color)\n",
    "plt.xticks(np.arange(0, 25, step=1))\n",
    "plt.show()"
   ]
  },
  {
   "cell_type": "markdown",
   "metadata": {
    "papermill": {
     "duration": 0.038995,
     "end_time": "2021-02-04T08:42:26.300029",
     "exception": false,
     "start_time": "2021-02-04T08:42:26.261034",
     "status": "completed"
    },
    "tags": []
   },
   "source": [
    "The model improves slighly if we do not consider which teams are playing."
   ]
  },
  {
   "cell_type": "markdown",
   "metadata": {
    "papermill": {
     "duration": 0.038718,
     "end_time": "2021-02-04T08:42:26.377866",
     "exception": false,
     "start_time": "2021-02-04T08:42:26.339148",
     "status": "completed"
    },
    "tags": []
   },
   "source": [
    "## 5.2. LinearRegression."
   ]
  },
  {
   "cell_type": "code",
   "execution_count": 23,
   "metadata": {
    "execution": {
     "iopub.execute_input": "2021-02-04T08:42:26.462460Z",
     "iopub.status.busy": "2021-02-04T08:42:26.461462Z",
     "iopub.status.idle": "2021-02-04T08:42:26.464628Z",
     "shell.execute_reply": "2021-02-04T08:42:26.464020Z"
    },
    "papermill": {
     "duration": 0.047802,
     "end_time": "2021-02-04T08:42:26.464789",
     "exception": false,
     "start_time": "2021-02-04T08:42:26.416987",
     "status": "completed"
    },
    "tags": []
   },
   "outputs": [],
   "source": [
    "dataset_LR = dataset[['1Q difference','2Q difference','3Q difference','Final difference']]"
   ]
  },
  {
   "cell_type": "code",
   "execution_count": 24,
   "metadata": {
    "execution": {
     "iopub.execute_input": "2021-02-04T08:42:26.553126Z",
     "iopub.status.busy": "2021-02-04T08:42:26.552445Z",
     "iopub.status.idle": "2021-02-04T08:42:26.590561Z",
     "shell.execute_reply": "2021-02-04T08:42:26.589974Z"
    },
    "papermill": {
     "duration": 0.086757,
     "end_time": "2021-02-04T08:42:26.590720",
     "exception": false,
     "start_time": "2021-02-04T08:42:26.503963",
     "status": "completed"
    },
    "tags": []
   },
   "outputs": [
    {
     "name": "stdout",
     "output_type": "stream",
     "text": [
      "RMSE: 7.149392\n",
      "Max error: 25.763708\n"
     ]
    }
   ],
   "source": [
    "X = dataset_LR[['1Q difference','2Q difference','3Q difference']]\n",
    "Y = dataset_LR['Final difference']\n",
    "x_train,x_test,y_train,y_test = train_test_split(X,Y,test_size=0.3,random_state=1)\n",
    "lr = LinearRegression()\n",
    "lr.fit(x_train,y_train)\n",
    "test_predictions = lr.predict(x_test)\n",
    "test_mse =mean_squared_error(test_predictions,y_test)\n",
    "test_rmse = np.sqrt(test_mse)\n",
    "print('RMSE: %f'%test_rmse)\n",
    "from sklearn.metrics import max_error\n",
    "print('Max error: %f'%max_error(y_test,test_predictions))"
   ]
  },
  {
   "cell_type": "markdown",
   "metadata": {
    "papermill": {
     "duration": 0.039873,
     "end_time": "2021-02-04T08:42:26.670318",
     "exception": false,
     "start_time": "2021-02-04T08:42:26.630445",
     "status": "completed"
    },
    "tags": []
   },
   "source": [
    "## 5.3. Neural Network."
   ]
  },
  {
   "cell_type": "code",
   "execution_count": 25,
   "metadata": {
    "execution": {
     "iopub.execute_input": "2021-02-04T08:42:26.764613Z",
     "iopub.status.busy": "2021-02-04T08:42:26.762851Z",
     "iopub.status.idle": "2021-02-04T08:42:36.663735Z",
     "shell.execute_reply": "2021-02-04T08:42:36.662714Z"
    },
    "papermill": {
     "duration": 9.95319,
     "end_time": "2021-02-04T08:42:36.663889",
     "exception": false,
     "start_time": "2021-02-04T08:42:26.710699",
     "status": "completed"
    },
    "tags": []
   },
   "outputs": [
    {
     "name": "stdout",
     "output_type": "stream",
     "text": [
      "RMSE: 7.152682\n",
      "Max error: 22.824996\n"
     ]
    }
   ],
   "source": [
    "neurons = [2,5,10,15]\n",
    "nn_accuracies = []\n",
    "rmse_list = []\n",
    "for n in neurons:\n",
    "    mlp = MLPRegressor(hidden_layer_sizes =(n,n),activation = 'relu',max_iter = 10000)\n",
    "    mlp.fit(x_train,y_train)\n",
    "    prediction = mlp.predict(x_test)\n",
    "    nn_accuracies.append(mlp.score(x_test, y_test))\n",
    "    mse = mean_squared_error(y_test,prediction)\n",
    "    rmse = mse**(1/2)\n",
    "    rmse_list.append(rmse)\n",
    "    \n",
    "\n",
    "print('RMSE: %f'%statistics.mean(rmse_list))\n",
    "print('Max error: %f'%max_error(y_test,prediction))"
   ]
  },
  {
   "cell_type": "markdown",
   "metadata": {
    "papermill": {
     "duration": 0.041109,
     "end_time": "2021-02-04T08:42:36.745499",
     "exception": false,
     "start_time": "2021-02-04T08:42:36.704390",
     "status": "completed"
    },
    "tags": []
   },
   "source": [
    "## 5.4. RandomForestRegressor."
   ]
  },
  {
   "cell_type": "code",
   "execution_count": 26,
   "metadata": {
    "execution": {
     "iopub.execute_input": "2021-02-04T08:42:36.839777Z",
     "iopub.status.busy": "2021-02-04T08:42:36.838778Z",
     "iopub.status.idle": "2021-02-04T08:42:37.373901Z",
     "shell.execute_reply": "2021-02-04T08:42:37.373223Z"
    },
    "papermill": {
     "duration": 0.588304,
     "end_time": "2021-02-04T08:42:37.374051",
     "exception": false,
     "start_time": "2021-02-04T08:42:36.785747",
     "status": "completed"
    },
    "tags": []
   },
   "outputs": [
    {
     "name": "stdout",
     "output_type": "stream",
     "text": [
      "RMSE =  7.966956767393492\n",
      "Max error: 25.020000\n"
     ]
    }
   ],
   "source": [
    "model = RandomForestRegressor()\n",
    "model.fit(x_train,y_train)\n",
    "# Get the mean absolute error on the validation data\n",
    "predicted_prices = model.predict(x_test)\n",
    "rmse = mean_squared_error(y_test , predicted_prices)**(1/2)\n",
    "print('RMSE = ', rmse)\n",
    "print('Max error: %f'%max_error(y_test,predicted_prices))"
   ]
  }
 ],
 "metadata": {
  "kernelspec": {
   "display_name": "Python 3",
   "language": "python",
   "name": "python3"
  },
  "language_info": {
   "codemirror_mode": {
    "name": "ipython",
    "version": 3
   },
   "file_extension": ".py",
   "mimetype": "text/x-python",
   "name": "python",
   "nbconvert_exporter": "python",
   "pygments_lexer": "ipython3",
   "version": "3.7.9"
  },
  "papermill": {
   "default_parameters": {},
   "duration": 55.010514,
   "end_time": "2021-02-04T08:42:38.128433",
   "environment_variables": {},
   "exception": null,
   "input_path": "__notebook__.ipynb",
   "output_path": "__notebook__.ipynb",
   "parameters": {},
   "start_time": "2021-02-04T08:41:43.117919",
   "version": "2.2.2"
  }
 },
 "nbformat": 4,
 "nbformat_minor": 4
}
